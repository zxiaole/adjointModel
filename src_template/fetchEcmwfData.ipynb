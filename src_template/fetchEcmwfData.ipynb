{
 "cells": [
  {
   "cell_type": "code",
   "execution_count": 2,
   "metadata": {
    "scrolled": true
   },
   "outputs": [
    {
     "name": "stderr",
     "output_type": "stream",
     "text": [
      "2023-07-03 16:23:35,623 INFO Welcome to the CDS\n",
      "2023-07-03 16:23:35,624 INFO Sending request to https://cds.climate.copernicus.eu/api/v2/resources/reanalysis-era5-single-levels\n"
     ]
    },
    {
     "name": "stdout",
     "output_type": "stream",
     "text": [
      "Current Day:2019-12-01T00:00:00\n"
     ]
    },
    {
     "name": "stderr",
     "output_type": "stream",
     "text": [
      "2023-07-03 16:23:35,984 INFO Request is queued\n",
      "2023-07-03 16:23:37,012 INFO Request is running\n",
      "2023-07-03 16:31:54,500 INFO Request is completed\n",
      "2023-07-03 16:31:54,501 INFO Downloading https://download-0015-clone.copernicus-climate.eu/cache-compute-0015/cache/data7/adaptor.mars.internal-1688394216.3962362-11342-9-126ddf32-97aa-422d-a152-ae49ef677bd6.grib to Chongqing/SingleLevel_20191201.grib (132.3M)\n",
      "2023-07-03 16:31:56,942 INFO Download rate 54.2M/s \n",
      "2023-07-03 16:31:59,613 INFO Welcome to the CDS\n",
      "2023-07-03 16:31:59,614 INFO Sending request to https://cds.climate.copernicus.eu/api/v2/resources/reanalysis-era5-pressure-levels\n",
      "2023-07-03 16:31:59,661 INFO Request is queued\n",
      "2023-07-03 16:32:00,686 INFO Request is running\n",
      "2023-07-03 17:12:21,214 INFO Request is completed\n",
      "2023-07-03 17:12:21,215 INFO Downloading https://download-0020.copernicus-climate.eu/cache-compute-0020/cache/data9/adaptor.mars.internal-1688394720.178223-1894-13-8d253695-0d5d-488b-a981-267764dd8f01.grib to Chongqing/PressureLevel_20191201.grib (831M)\n",
      "2023-07-03 17:12:37,595 INFO Download rate 50.7M/s \n"
     ]
    },
    {
     "name": "stdout",
     "output_type": "stream",
     "text": [
      "Current Day:2019-12-01T00:00:00\n",
      "Current Day:2019-12-02T00:00:00\n",
      "Current Day:2019-12-03T00:00:00\n",
      "Current Day:2019-12-04T00:00:00\n",
      "Current Day:2019-12-05T00:00:00\n",
      "Current Day:2019-12-06T00:00:00\n",
      "Current Day:2019-12-07T00:00:00\n",
      "Current Day:2019-12-08T00:00:00\n",
      "Current Day:2019-12-09T00:00:00\n",
      "Current Day:2019-12-10T00:00:00\n",
      "Current Day:2019-12-11T00:00:00\n",
      "Current Day:2019-12-12T00:00:00\n",
      "Current Day:2019-12-13T00:00:00\n",
      "Current Day:2019-12-14T00:00:00\n",
      "Current Day:2019-12-15T00:00:00\n",
      "Current Day:2019-12-16T00:00:00\n",
      "Current Day:2019-12-17T00:00:00\n",
      "Current Day:2019-12-18T00:00:00\n",
      "Current Day:2019-12-19T00:00:00\n",
      "Current Day:2019-12-20T00:00:00\n",
      "Current Day:2019-12-21T00:00:00\n",
      "Current Day:2019-12-22T00:00:00\n",
      "Current Day:2019-12-23T00:00:00\n",
      "Current Day:2019-12-24T00:00:00\n",
      "Current Day:2019-12-25T00:00:00\n",
      "Current Day:2019-12-26T00:00:00\n",
      "Current Day:2019-12-27T00:00:00\n",
      "Current Day:2019-12-28T00:00:00\n",
      "Current Day:2019-12-29T00:00:00\n",
      "Current Day:2019-12-30T00:00:00\n",
      "Current Day:2019-12-31T00:00:00\n"
     ]
    },
    {
     "name": "stderr",
     "output_type": "stream",
     "text": [
      "2023-07-03 17:12:58,154 INFO Welcome to the CDS\n",
      "2023-07-03 17:12:58,155 INFO Sending request to https://cds.climate.copernicus.eu/api/v2/resources/reanalysis-era5-single-levels\n",
      "2023-07-03 17:12:58,187 INFO Request is queued\n"
     ]
    },
    {
     "name": "stdout",
     "output_type": "stream",
     "text": [
      "Current Day:2020-01-01T00:00:00\n"
     ]
    },
    {
     "name": "stderr",
     "output_type": "stream",
     "text": [
      "2023-07-03 17:12:59,217 INFO Request is running\n",
      "2023-07-03 17:23:16,895 INFO Request is completed\n",
      "2023-07-03 17:23:16,896 INFO Downloading https://download-0009-clone.copernicus-climate.eu/cache-compute-0009/cache/data7/adaptor.mars.internal-1688397178.5308266-20534-1-315f7332-befd-4c29-824b-c38f038c25e0.grib to Chongqing/SingleLevel_20200101.grib (132.3M)\n",
      "2023-07-03 17:23:19,656 INFO Download rate 48M/s   \n",
      "2023-07-03 17:23:23,005 INFO Welcome to the CDS\n",
      "2023-07-03 17:23:23,006 INFO Sending request to https://cds.climate.copernicus.eu/api/v2/resources/reanalysis-era5-pressure-levels\n",
      "2023-07-03 17:23:23,046 INFO Request is queued\n",
      "2023-07-03 17:23:24,072 INFO Request is running\n",
      "2023-07-03 18:03:44,619 INFO Request is completed\n",
      "2023-07-03 18:03:44,619 INFO Downloading https://download-0018.copernicus-climate.eu/cache-compute-0018/cache/data7/adaptor.mars.internal-1688397803.2522116-6762-1-e1d68b50-379f-4457-a652-6f2e33858b73.grib to Chongqing/PressureLevel_20200101.grib (831M)\n",
      "2023-07-03 18:04:00,583 INFO Download rate 52.1M/s \n"
     ]
    },
    {
     "name": "stdout",
     "output_type": "stream",
     "text": [
      "Current Day:2020-01-01T00:00:00\n",
      "Current Day:2020-01-02T00:00:00\n",
      "Current Day:2020-01-03T00:00:00\n",
      "Current Day:2020-01-04T00:00:00\n",
      "Current Day:2020-01-05T00:00:00\n",
      "Current Day:2020-01-06T00:00:00\n",
      "Current Day:2020-01-07T00:00:00\n",
      "Current Day:2020-01-08T00:00:00\n",
      "Current Day:2020-01-09T00:00:00\n",
      "Current Day:2020-01-10T00:00:00\n",
      "Current Day:2020-01-11T00:00:00\n",
      "Current Day:2020-01-12T00:00:00\n",
      "Current Day:2020-01-13T00:00:00\n",
      "Current Day:2020-01-14T00:00:00\n",
      "Current Day:2020-01-15T00:00:00\n",
      "Current Day:2020-01-16T00:00:00\n",
      "Current Day:2020-01-17T00:00:00\n",
      "Current Day:2020-01-18T00:00:00\n",
      "Current Day:2020-01-19T00:00:00\n",
      "Current Day:2020-01-20T00:00:00\n",
      "Current Day:2020-01-21T00:00:00\n",
      "Current Day:2020-01-22T00:00:00\n",
      "Current Day:2020-01-23T00:00:00\n",
      "Current Day:2020-01-24T00:00:00\n",
      "Current Day:2020-01-25T00:00:00\n",
      "Current Day:2020-01-26T00:00:00\n",
      "Current Day:2020-01-27T00:00:00\n",
      "Current Day:2020-01-28T00:00:00\n",
      "Current Day:2020-01-29T00:00:00\n",
      "Current Day:2020-01-30T00:00:00\n",
      "Current Day:2020-01-31T00:00:00\n"
     ]
    },
    {
     "name": "stderr",
     "output_type": "stream",
     "text": [
      "2023-07-03 18:04:21,116 INFO Welcome to the CDS\n",
      "2023-07-03 18:04:21,117 INFO Sending request to https://cds.climate.copernicus.eu/api/v2/resources/reanalysis-era5-single-levels\n",
      "2023-07-03 18:04:21,180 INFO Request is queued\n"
     ]
    },
    {
     "name": "stdout",
     "output_type": "stream",
     "text": [
      "Current Day:2020-02-01T00:00:00\n"
     ]
    },
    {
     "name": "stderr",
     "output_type": "stream",
     "text": [
      "2023-07-03 18:04:22,202 INFO Request is running\n",
      "2023-07-03 18:12:39,622 INFO Request is completed\n",
      "2023-07-03 18:12:39,623 INFO Downloading https://download-0013-clone.copernicus-climate.eu/cache-compute-0013/cache/data8/adaptor.mars.internal-1688400261.598235-7442-3-c8365e54-c14c-429a-85e9-50b4f4da5838.grib to Chongqing/SingleLevel_20200201.grib (123.8M)\n",
      "2023-07-03 18:12:42,233 INFO Download rate 47.4M/s \n",
      "2023-07-03 18:12:44,235 INFO Welcome to the CDS\n",
      "2023-07-03 18:12:44,236 INFO Sending request to https://cds.climate.copernicus.eu/api/v2/resources/reanalysis-era5-pressure-levels\n",
      "2023-07-03 18:12:44,299 INFO Request is queued\n",
      "2023-07-03 18:12:45,324 INFO Request is running\n",
      "2023-07-03 18:57:06,194 INFO Request is completed\n",
      "2023-07-03 18:57:06,195 INFO Downloading https://download-0012-clone.copernicus-climate.eu/cache-compute-0012/cache/data3/adaptor.mars.internal-1688400764.6683547-8470-11-0e430051-bdb1-4002-ac38-23dd16f3b1f5.grib to Chongqing/PressureLevel_20200201.grib (777.4M)\n",
      "2023-07-03 18:57:58,785 INFO Download rate 14.8M/s \n"
     ]
    },
    {
     "name": "stdout",
     "output_type": "stream",
     "text": [
      "Current Day:2020-02-01T00:00:00\n",
      "Current Day:2020-02-02T00:00:00\n",
      "Current Day:2020-02-03T00:00:00\n",
      "Current Day:2020-02-04T00:00:00\n",
      "Current Day:2020-02-05T00:00:00\n",
      "Current Day:2020-02-06T00:00:00\n",
      "Current Day:2020-02-07T00:00:00\n",
      "Current Day:2020-02-08T00:00:00\n",
      "Current Day:2020-02-09T00:00:00\n",
      "Current Day:2020-02-10T00:00:00\n",
      "Current Day:2020-02-11T00:00:00\n",
      "Current Day:2020-02-12T00:00:00\n",
      "Current Day:2020-02-13T00:00:00\n",
      "Current Day:2020-02-14T00:00:00\n",
      "Current Day:2020-02-15T00:00:00\n",
      "Current Day:2020-02-16T00:00:00\n",
      "Current Day:2020-02-17T00:00:00\n",
      "Current Day:2020-02-18T00:00:00\n",
      "Current Day:2020-02-19T00:00:00\n",
      "Current Day:2020-02-20T00:00:00\n",
      "Current Day:2020-02-21T00:00:00\n",
      "Current Day:2020-02-22T00:00:00\n",
      "Current Day:2020-02-23T00:00:00\n",
      "Current Day:2020-02-24T00:00:00\n",
      "Current Day:2020-02-25T00:00:00\n",
      "Current Day:2020-02-26T00:00:00\n",
      "Current Day:2020-02-27T00:00:00\n",
      "Current Day:2020-02-28T00:00:00\n",
      "Current Day:2020-02-29T00:00:00\n"
     ]
    },
    {
     "name": "stderr",
     "output_type": "stream",
     "text": [
      "2023-07-03 18:58:19,467 INFO Welcome to the CDS\n",
      "2023-07-03 18:58:19,471 INFO Sending request to https://cds.climate.copernicus.eu/api/v2/resources/reanalysis-era5-single-levels\n",
      "2023-07-03 18:58:19,608 INFO Request is queued\n"
     ]
    },
    {
     "name": "stdout",
     "output_type": "stream",
     "text": [
      "Current Day:2020-03-01T00:00:00\n"
     ]
    },
    {
     "name": "stderr",
     "output_type": "stream",
     "text": [
      "2023-07-03 18:58:20,634 INFO Request is running\n",
      "2023-07-03 19:06:38,109 INFO Request is completed\n",
      "2023-07-03 19:06:38,109 INFO Downloading https://download-0002-clone.copernicus-climate.eu/cache-compute-0002/cache/data2/adaptor.mars.internal-1688403499.8308957-12498-12-2c553d23-ce4c-4472-ba3c-e88575a1f4f9.grib to Chongqing/SingleLevel_20200301.grib (132.3M)\n",
      "2023-07-03 19:06:40,659 INFO Download rate 51.9M/s \n",
      "2023-07-03 19:06:43,440 INFO Welcome to the CDS\n",
      "2023-07-03 19:06:43,441 INFO Sending request to https://cds.climate.copernicus.eu/api/v2/resources/reanalysis-era5-pressure-levels\n",
      "2023-07-03 19:06:43,514 INFO Request is queued\n",
      "2023-07-03 19:06:44,541 INFO Request is running\n",
      "2023-07-03 19:45:04,946 INFO Request is completed\n",
      "2023-07-03 19:45:04,946 INFO Downloading https://download-0008-clone.copernicus-climate.eu/cache-compute-0008/cache/data0/adaptor.mars.internal-1688404003.7114463-30190-11-50002583-6b17-445d-a8c6-2dcde8613480.grib to Chongqing/PressureLevel_20200301.grib (831M)\n",
      "2023-07-03 19:46:11,294 INFO Download rate 12.5M/s \n"
     ]
    },
    {
     "name": "stdout",
     "output_type": "stream",
     "text": [
      "Current Day:2020-03-01T00:00:00\n",
      "Current Day:2020-03-02T00:00:00\n",
      "Current Day:2020-03-03T00:00:00\n",
      "Current Day:2020-03-04T00:00:00\n",
      "Current Day:2020-03-05T00:00:00\n",
      "Current Day:2020-03-06T00:00:00\n",
      "Current Day:2020-03-07T00:00:00\n",
      "Current Day:2020-03-08T00:00:00\n",
      "Current Day:2020-03-09T00:00:00\n",
      "Current Day:2020-03-10T00:00:00\n",
      "Current Day:2020-03-11T00:00:00\n",
      "Current Day:2020-03-12T00:00:00\n",
      "Current Day:2020-03-13T00:00:00\n",
      "Current Day:2020-03-14T00:00:00\n",
      "Current Day:2020-03-15T00:00:00\n",
      "Current Day:2020-03-16T00:00:00\n",
      "Current Day:2020-03-17T00:00:00\n",
      "Current Day:2020-03-18T00:00:00\n",
      "Current Day:2020-03-19T00:00:00\n",
      "Current Day:2020-03-20T00:00:00\n",
      "Current Day:2020-03-21T00:00:00\n",
      "Current Day:2020-03-22T00:00:00\n",
      "Current Day:2020-03-23T00:00:00\n",
      "Current Day:2020-03-24T00:00:00\n",
      "Current Day:2020-03-25T00:00:00\n",
      "Current Day:2020-03-26T00:00:00\n",
      "Current Day:2020-03-27T00:00:00\n",
      "Current Day:2020-03-28T00:00:00\n",
      "Current Day:2020-03-29T00:00:00\n",
      "Current Day:2020-03-30T00:00:00\n",
      "Current Day:2020-03-31T00:00:00\n"
     ]
    }
   ],
   "source": [
    "# Nov. 11, 2021, Xiaole Zhang\n",
    "# Download meteo data from ecmwf \n",
    "# Dec, 29, 2021, Xiaole Zhang\n",
    "# fix the date bugs when combine the files\n",
    "# Apr. 28, 2023, Xiaole Zhang\n",
    "# Get meteo data for Beijing ARG\n",
    "# May 07, 2023, Xiaole Zhang\n",
    "# fix the misalignment of the data\n",
    "import cdsapi\n",
    "from datetime import date, timedelta, datetime\n",
    "from dateutil.relativedelta import relativedelta\n",
    "import os\n",
    "from pathlib import Path\n",
    "import calendar \n",
    "\n",
    "# covert number to formated string\n",
    "def number2String(f):\n",
    "    return '%02d' % f\n",
    "\n",
    "c = cdsapi.Client() \n",
    "\n",
    "# [up, left, down, right]\n",
    "regionName = 'Chongqing'\n",
    "regionBound = {'Beijing': [50, 105, 30, 127],\\\n",
    "               'Xian': [44.25, 97.5, 24.25, 119.5], \\\n",
    "              'Wuhan': [40.5, 104.5, 20.5, 124.5], \\\n",
    "              'Chongqing':[39.8, 96.5 ,19.8, 116.5]}\n",
    "\n",
    "# data for Wuhan\n",
    "initialYear = 2019\n",
    "initialMonth = 12\n",
    "numberOfMonths = 4\n",
    "initialDate = datetime(initialYear, initialMonth, 1, 0) \n",
    "\n",
    "#targetYear = 2021\n",
    "#targetMonths = [1,2]\n",
    "#monthsList = list(map(number2String, targetMonths))\n",
    "\n",
    "targetDays = range(1,32)\n",
    "daysList = list(map(number2String, targetDays))\n",
    "\n",
    "# to download the meteo day by month to meet the volume requirement\n",
    "for currentMonthNum in range(numberOfMonths):\n",
    "    currentDay = initialDate+ relativedelta(months=currentMonthNum)#date(targetYear, currentMonth, 1) \n",
    "    initalDay = currentDay \n",
    "    \n",
    "    year = '%4d' % currentDay.year\n",
    "    month = '%02d' % currentDay.month\n",
    "    day = '%02d' % currentDay.day\n",
    "    print('Current Day:' + currentDay.isoformat())\n",
    "    \n",
    "    # download single level data\n",
    "    fileName = regionName + '/'+'SingleLevel_'+currentDay.strftime('%Y%m%d')+'.grib'\n",
    "    filePath = Path(regionName + '/')\n",
    "    filePath.mkdir(parents=True, exist_ok=True)\n",
    "    \n",
    "    c.retrieve( \n",
    "        'reanalysis-era5-single-levels', \n",
    "        { \n",
    "            'product_type': 'reanalysis', \n",
    "            'format': 'grib', \n",
    "            'variable': [ \n",
    "                '2m_temperature', 'boundary_layer_height', 'eastward_turbulent_surface_stress', \n",
    "                'evaporation', 'high_cloud_cover', 'medium_cloud_cover', \n",
    "                'northward_turbulent_surface_stress', 'skin_temperature', 'surface_sensible_heat_flux', \n",
    "                'surface_solar_radiation_downwards', 'surface_pressure', 'convective_precipitation','large_scale_precipitation','volumetric_soil_water_layer_1', \n",
    "            ], \n",
    "            'year': year, \n",
    "            'month': month,\n",
    "            'day': daysList, \n",
    "            'time': [ \n",
    "                '00:00', '01:00', '02:00', \n",
    "                '03:00', '04:00', '05:00', \n",
    "                '06:00', '07:00', '08:00', \n",
    "                '09:00', '10:00', '11:00',\n",
    "                '12:00', '13:00', '14:00',\n",
    "                '15:00', '16:00', '17:00',\n",
    "                '18:00', '19:00', '20:00',\n",
    "                '21:00', '22:00', '23:00',\n",
    "            ], \n",
    "            'area': regionBound[regionName], \n",
    "        }, \n",
    "        fileName) \n",
    "    \n",
    "    # split the data to daily files\n",
    "    ruleFile =regionName+'/rules_file'\n",
    "    os.system(\"grib_filter \"+ruleFile+\" \"+fileName)\n",
    "    \n",
    "    ###############################################\n",
    "    # download 3d data\n",
    "    fileName3d =  regionName + '/'+'PressureLevel_'+currentDay.strftime('%Y%m%d')+'.grib'\n",
    "    \n",
    "    c.retrieve( \n",
    "        'reanalysis-era5-pressure-levels', \n",
    "        { \n",
    "        'product_type': 'reanalysis', \n",
    "        'variable': [ \n",
    "        'specific_cloud_ice_water_content', 'specific_cloud_liquid_water_content', 'specific_humidity', \n",
    "        'temperature', 'u_component_of_wind', 'v_component_of_wind', \n",
    "        ], \n",
    "        'pressure_level': [ \n",
    "        '500', '550', '600', \n",
    "        '650', '700', '750', \n",
    "        '775', '800', '825', \n",
    "        '850', '875', '900', \n",
    "        '925', '950', '975', \n",
    "        '1000', \n",
    "        ], \n",
    "        'year': year, \n",
    "        'month': month,\n",
    "        'day': daysList, \n",
    "        'time': [ \n",
    "        '00:00', '01:00', '02:00', \n",
    "        '03:00', '04:00', '05:00', \n",
    "        '06:00', '07:00', '08:00', \n",
    "        '09:00', '10:00', '11:00',\n",
    "        '12:00', '13:00', '14:00',\n",
    "        '15:00', '16:00', '17:00',\n",
    "        '18:00', '19:00', '20:00',\n",
    "        '21:00', '22:00', '23:00', \n",
    "        ], \n",
    "        'area': regionBound[regionName], \n",
    "        'format': 'grib', \n",
    "        }, \n",
    "        fileName3d) \n",
    "    \n",
    "    # split the data to daily files\n",
    "    ruleFile =regionName+'/rules_file_pressure'\n",
    "    os.system(\"grib_filter \"+ruleFile+\" \"+fileName3d)\n",
    "    \n",
    "    ###########################\n",
    "    # combine the daily 2d and 3d data files into single files and delete the splitted data\n",
    "    # need to install the grib api tools\n",
    "    # sudo apt-get install libgrib-api-tools\n",
    "    if(currentMonthNum!=0):      \n",
    "        currentDay = initalDay + timedelta(days=-1)\n",
    "        fileNameAll = regionName + '/'+'ECMWF-'+currentDay.strftime('%Y%m%d')+'.grb'\n",
    "        currentDay = initalDay + timedelta(hours=-6)\n",
    "        fileName2dFc = regionName + '/' + 'ecmf_fc_'+currentDay.strftime('%Y%m%d_%-H')+'.grib'\n",
    "        # \">>\" should be used instead of \">\", otherwise the input file will be erased\n",
    "        os.system(\"cat \"+fileNameAll+\" \"+fileName2dFc+\" >> \"+fileNameAll)\n",
    "\n",
    "    dayRange = calendar.monthrange(initalDay.year, initalDay.month)\n",
    "    for day in range(0, dayRange[1]):\n",
    "        currentDay = initalDay + timedelta(days=day) \n",
    "        print('Current Day:' + currentDay.isoformat())\n",
    "        fileName3d = regionName + '/' + 'ecmf_'+currentDay.strftime('%Y%m%d')+'_pressureLevels.grib'\n",
    "        fileNameAll = regionName + '/'+'ECMWF-'+currentDay.strftime('%Y%m%d')+'.grb'\n",
    "        if(currentMonthNum==0 or day!=0):\n",
    "            os.system(\"cat \"+fileNameAll+\" > \"+fileNameAll)\n",
    "        \n",
    "        for hour in [-6, 6, 18]:\n",
    "            currentDay = initalDay + timedelta(days=day) + timedelta(hours = hour)\n",
    "            fileName2dFc = regionName + '/' + 'ecmf_fc_'+currentDay.strftime('%Y%m%d_%-H')+'.grib'\n",
    "            os.system(\"cat \"+fileNameAll+\" \"+fileName2dFc+\" >> \"+fileNameAll)\n",
    "            if(hour!=18):\n",
    "               os.system(\"rm \"+fileName2dFc)  \n",
    "        \n",
    "        for hour in range(0, 24):\n",
    "            currentDay = initalDay + timedelta(days=day) + timedelta(hours = hour)\n",
    "            fileName2dAn = regionName + '/' + 'ecmf_an_'+currentDay.strftime('%Y%m%d_%-H')+'.grib'\n",
    "            os.system(\"cat \"+fileNameAll+\" \"+fileName2dAn+\" >> \"+fileNameAll)\n",
    "            os.system(\"rm \"+fileName2dAn)\n",
    "            \n",
    "        os.system(\"cat \"+fileNameAll+\" \"+fileName3d+\" >> \"+fileNameAll)\n",
    "        os.system(\"rm \"+fileName3d) \n",
    "        \n",
    "    currentDay = initalDay + timedelta(days=day+1)\n",
    "    fileNameAll = regionName + '/'+'ECMWF-'+currentDay.strftime('%Y%m%d')+'.grb'\n",
    "    os.system(\"cat \"+fileNameAll+\" > \"+fileNameAll)\n",
    "    currentDay = initalDay + timedelta(days=day+1) + timedelta(hours = -6)\n",
    "    fileName2dFc = regionName + '/' + 'ecmf_fc_'+currentDay.strftime('%Y%m%d_%-H')+'.grib'\n",
    "    os.system(\"cat \"+fileNameAll+\" \"+fileName2dFc+\" >> \"+fileNameAll)\n",
    "    os.system(\"rm \"+fileName2dFc)\n",
    "        \n",
    "     \n",
    "   #fileNameAll = regionName + '/'+'ECMWF-'+currentDay.strftime('%Y%m%d')+'.grb'\n",
    "   #os.system(\"cat \"+fileName+\" \"+fileName3d+\" > \"+fileNameAll)\n",
    "   #os.system(\"rm \"+fileName+\" \"+fileName3d)"
   ]
  },
  {
   "cell_type": "code",
   "execution_count": 7,
   "metadata": {},
   "outputs": [
    {
     "data": {
      "text/plain": [
       "'20170131_0'"
      ]
     },
     "execution_count": 7,
     "metadata": {},
     "output_type": "execute_result"
    }
   ],
   "source": [
    "currentDay.strftime('%Y%m%d_%-H')"
   ]
  },
  {
   "cell_type": "code",
   "execution_count": 23,
   "metadata": {},
   "outputs": [
    {
     "name": "stdout",
     "output_type": "stream",
     "text": [
      "-6\n",
      "0\n",
      "6\n"
     ]
    }
   ],
   "source": [
    "for hour in [-6, 0, 6]:\n",
    "    print(hour)"
   ]
  }
 ],
 "metadata": {
  "kernelspec": {
   "display_name": "Python 3",
   "language": "python",
   "name": "python3"
  },
  "language_info": {
   "codemirror_mode": {
    "name": "ipython",
    "version": 3
   },
   "file_extension": ".py",
   "mimetype": "text/x-python",
   "name": "python",
   "nbconvert_exporter": "python",
   "pygments_lexer": "ipython3",
   "version": "3.5.2"
  }
 },
 "nbformat": 4,
 "nbformat_minor": 2
}
